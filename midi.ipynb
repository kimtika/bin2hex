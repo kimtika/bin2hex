{
  {
   "cell_type": "code",
   "execution_count": 30,
   "id": "70519b8b",
   "metadata": {},
   "outputs": [],
   "source": [
    "import os\n",
    "import tkinter\n",
    "from tkinter import filedialog\n",
    "\n",
    "def bin2hex():\n",
    "    input_file_path=input_box.get()\n",
    "    output_file_path=input_box2.get()+\"/\"+input_box3.get()+\".txt\"\n",
    "    byteSize=os.path.getsize(input_file_path)\n",
    "    with open(input_file_path, \"rb\") as f: \n",
    "        buf = f.read(byteSize).hex()\n",
    "    with open(output_file_path, 'w') as f:\n",
    "        for i in range(len(buf)//2):\n",
    "            print(buf[2*i:2*i+2],end=\" \",file=f)\n",
    "    input_label5[\"text\"]=(tkinter.END, \"変換完了\")\n",
    "\n",
    "\n",
    "def file_select():\n",
    "    idir = 'C:\\\\'\n",
    "    filetype = [(\"すべて\",\"*\")]\n",
    "    file_path = tkinter.filedialog.askopenfilename(filetypes = filetype, initialdir = idir)\n",
    "    input_box.insert(tkinter.END, file_path)\n",
    "def file_select2():\n",
    "    idir = 'C:\\\\'\n",
    "    file_path = tkinter.filedialog.askdirectory(initialdir = idir)\n",
    "    input_box2.insert(tkinter.END, file_path)\n",
    "\n",
    "#ウインドウの作成\n",
    "root = tkinter.Tk()\n",
    "root.title(\"Python GUI\")\n",
    "root.geometry(\"560x320\")\n",
    "\n",
    "#入力欄の作成\n",
    "input_box = tkinter.Entry(width=40)\n",
    "input_box.place(x=10, y=60)\n",
    "\n",
    "#ラベルの作成\n",
    "input_label = tkinter.Label(text=\"入力\")\n",
    "input_label.place(x=10, y=30)\n",
    "\n",
    "#ボタンの作成\n",
    "button = tkinter.Button(text=\"参照\",command=file_select)\n",
    "button.place(x=10, y=90)\n",
    "#入力欄の作成\n",
    "input_box2 = tkinter.Entry(width=40)\n",
    "input_box2.place(x=10, y=150)\n",
    "#ラベルの作成\n",
    "input_label2 = tkinter.Label(text=\"出力先\")\n",
    "input_label2.place(x=10, y=120)\n",
    "\n",
    "#ボタンの作成\n",
    "button2 = tkinter.Button(text=\"参照\",command=file_select2)\n",
    "button2.place(x=10, y=180)\n",
    "#入力欄の作成\n",
    "input_box3 = tkinter.Entry(width=20)\n",
    "input_box3.place(x=280, y=150)\n",
    "input_box3.insert(0, \"output\")\n",
    "#ラベルの作成\n",
    "input_label3 = tkinter.Label(text=\"ファイル名\")\n",
    "input_label3.place(x=280, y=120)\n",
    "#ラベルの作成\n",
    "input_label4 = tkinter.Label(text=\".txt\")\n",
    "input_label4.place(x=400, y=150)\n",
    "#ボタンの作成\n",
    "button3 = tkinter.Button(text=\"開始\",command=bin2hex)\n",
    "button3.place(x=350, y=180)\n",
    "input_label5 = tkinter.Label(text=\"\")\n",
    "input_label5.place(x=10, y=250)\n",
    "#ウインドウの描画\n",
    "root.mainloop()"
   ]
  },
  {
   "cell_type": "code",
   "execution_count": 29,
   "id": "356a2893",
   "metadata": {},
   "outputs": [
    {
     "name": "stdout",
     "output_type": "stream",
     "text": [
      "4d 54 68 64 00 00 00 06 00 01 00 02 03 c0 4d 54 72 6b 00 00 00 2f 00 ff 02 00 00 ff 03 1c 32 30 32 32 2d 34 2d 31 35 5f 31 34 2d 35 35 2d 35 34 5f 36 37 38 34 31 32 39 30 36 00 ff 51 03 07 a1 20 00 ff 2f 00 4d 54 72 6b 00 00 00 3b 00 ff 03 00 00 c0 00 00 90 3c 64 82 2c 80 3c 00 00 90 40 64 81 70 80 40 00 00 90 40 64 3d 80 40 00 00 90 44 64 3b 90 44 64 81 35 80 44 00 3b 80 44 00 9e 3c b0 7b 00 00 ff 2f 00 "
     ]
    }
   ],
   "source": []
  },
  {
   "cell_type": "code",
   "execution_count": null,
   "id": "6a11f241",
   "metadata": {},
   "outputs": [],
   "source": []
  }
 ],
 "metadata": {
  "kernelspec": {
   "display_name": "Python 3 (ipykernel)",
   "language": "python",
   "name": "python3"
  },
  "language_info": {
   "codemirror_mode": {
    "name": "ipython",
    "version": 3
   },
   "file_extension": ".py",
   "mimetype": "text/x-python",
   "name": "python",
   "nbconvert_exporter": "python",
   "pygments_lexer": "ipython3",
   "version": "3.8.11"
  }
 },
 "nbformat": 4,
 "nbformat_minor": 5
}
